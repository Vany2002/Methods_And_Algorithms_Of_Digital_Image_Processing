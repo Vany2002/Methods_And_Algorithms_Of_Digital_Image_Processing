{
  "nbformat": 4,
  "nbformat_minor": 0,
  "metadata": {
    "colab": {
      "provenance": [],
      "authorship_tag": "ABX9TyMTW+EyhMeRKQyHY416o5/1",
      "include_colab_link": true
    },
    "kernelspec": {
      "name": "python3",
      "display_name": "Python 3"
    },
    "language_info": {
      "name": "python"
    }
  },
  "cells": [
    {
      "cell_type": "markdown",
      "metadata": {
        "id": "view-in-github",
        "colab_type": "text"
      },
      "source": [
        "<a href=\"https://colab.research.google.com/github/Vany2002/Methods_And_Algorithms_Of_Digital_Image_Processing/blob/main/%E2%84%962.ipynb\" target=\"_parent\"><img src=\"https://colab.research.google.com/assets/colab-badge.svg\" alt=\"Open In Colab\"/></a>"
      ]
    },
    {
      "cell_type": "code",
      "execution_count": null,
      "metadata": {
        "id": "O6enAZ_Q89DP"
      },
      "outputs": [],
      "source": [
        "rgvdgdv"
      ]
    },
    {
      "cell_type": "code",
      "source": [
        "dwrg"
      ],
      "metadata": {
        "id": "2WtRvFiiKvpn"
      },
      "execution_count": null,
      "outputs": []
    },
    {
      "cell_type": "markdown",
      "source": [
        "fdgfdgdg"
      ],
      "metadata": {
        "id": "ui9Hx4YTKu4F"
      }
    }
  ]
}