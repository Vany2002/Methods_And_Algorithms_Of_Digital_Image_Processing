{
  "cells": [
    {
      "cell_type": "markdown",
      "metadata": {
        "id": "view-in-github",
        "colab_type": "text"
      },
      "source": [
        "<a href=\"https://colab.research.google.com/github/Vany2002/Methods_And_Algorithms_Of_Digital_Image_Processing/blob/main/4_3.ipynb\" target=\"_parent\"><img src=\"https://colab.research.google.com/assets/colab-badge.svg\" alt=\"Open In Colab\"/></a>"
      ]
    },
    {
      "cell_type": "code",
      "source": [
        "!pip install imageai # установка библиотеки ImageAI"
      ],
      "metadata": {
        "colab": {
          "base_uri": "https://localhost:8080/"
        },
        "id": "cK1cEdC89vqH",
        "outputId": "608d5a1d-89f7-4452-89fc-13bfa1e7e8e3"
      },
      "execution_count": 78,
      "outputs": [
        {
          "output_type": "stream",
          "name": "stdout",
          "text": [
            "Requirement already satisfied: imageai in /usr/local/lib/python3.10/dist-packages (3.0.3)\n"
          ]
        }
      ]
    },
    {
      "cell_type": "code",
      "source": [
        "from google.colab import drive\n",
        "drive.mount('/content/drive')"
      ],
      "metadata": {
        "id": "VkJjXiPso6_6",
        "colab": {
          "base_uri": "https://localhost:8080/"
        },
        "outputId": "eedbc5dc-096a-40ab-e75e-71e82757d622"
      },
      "execution_count": 79,
      "outputs": [
        {
          "output_type": "stream",
          "name": "stdout",
          "text": [
            "Drive already mounted at /content/drive; to attempt to forcibly remount, call drive.mount(\"/content/drive\", force_remount=True).\n"
          ]
        }
      ]
    },
    {
      "cell_type": "markdown",
      "source": [
        "# Задание №3. Детекция и трекинг объектов на видеопотоке"
      ],
      "metadata": {
        "id": "tvIyAL__vHPO"
      }
    },
    {
      "cell_type": "markdown",
      "source": [
        "## 3.1. Подготовка набора данных:\n",
        "\n",
        "* Найдите и загрузите из сети Интернет 5 видеофайлов с большим количеством разнородных объектов в кадре (например запись с камеры видеонаблюдения на шоссе и тд) длительностью от 30 секунд до 1 минуты (Также Вы можете скачать видеофайл большей длительности, а затем обрезать его в одном из [онлйан-сервисов](https://online-video-cutter.com/ru/?ysclid=lfjb8zk8er484677266).\n",
        "\n",
        "\n",
        "* Для более оптимальной работы с видеофайлами, сожмите их, используя онлайн-сервисы. ([Например тут](https://compress-video-online.com/ru/ ))\n",
        "\n",
        "## 3.2. Детекция и трекинг объектов на видеопотоке\n",
        "\n",
        "3.2.1. [Ознакомьтесь с технической документацией](https://imageai.readthedocs.io/en/latest/video/index.html)\n",
        "\n",
        "3.2.2. Загрузите готовую модель для детекции объектов\n",
        "\n",
        "3.2.3. Используя данную модель, обработайте 5 видеофайлов (см. п. 3.1.)\n",
        "\n",
        "3.2.4. Сохраните полученные видеофайлы"
      ],
      "metadata": {
        "id": "p0TFRs9qAW1A"
      }
    },
    {
      "cell_type": "code",
      "source": [
        "from imageai.Detection import VideoObjectDetection\n",
        "import os\n",
        "import cv2\n",
        "\n",
        "def video_object_detection(video_path, save_path):\n",
        "    try:\n",
        "        execution_path = \"/content/drive/MyDrive/Модель/yolov3.pt\"\n",
        "\n",
        "        detector = VideoObjectDetection()\n",
        "        detector.setModelTypeAsYOLOv3()\n",
        "        detector.setModelPath(execution_path)\n",
        "        detector.loadModel()\n",
        "\n",
        "        video_path = detector.detectObjectsFromVideo(input_file_path=video_path,\n",
        "                               output_file_path=save_path, frames_per_second=30)\n",
        "\n",
        "        print(f\"Путь: {video_path}\")\n",
        "        return \"Детекция объектов на видео произведена\"\n",
        "    except:\n",
        "        return \"Не удается получить видео по пути или произвести детекцию\""
      ],
      "metadata": {
        "id": "lvwYhP88EseD"
      },
      "execution_count": null,
      "outputs": []
    },
    {
      "cell_type": "code",
      "source": [
        "video_path = \"/content/drive/MyDrive/Video/Александра Лихачёва - Футаж Идущие Люди. Толпа Людей. Люди на Улице. Люди Идущие по Улице. Футаж Люди. Видеофутажи   00001.webm\"\n",
        "save_path = \"/content/drive/MyDrive/Video/Save/1\"\n",
        "\n",
        "print(video_object_detection(video_path, save_path))"
      ],
      "metadata": {
        "colab": {
          "base_uri": "https://localhost:8080/"
        },
        "id": "WHyfIWkDVpsJ",
        "outputId": "391e3672-3d5e-4cf0-aa49-0e9b4a58b3f3"
      },
      "execution_count": null,
      "outputs": [
        {
          "output_type": "stream",
          "name": "stdout",
          "text": [
            "Путь: /content/drive/MyDrive/Video/Save/1.mp4\n",
            "Детекция объектов на видео произведена\n"
          ]
        }
      ]
    },
    {
      "cell_type": "code",
      "source": [
        "video_path = \"/content/drive/MyDrive/Video/Russpotter - ПАРАД ПОБЕДЫ 2022. Пролет авиации над Москвой. Генеральная репетиция 07.05.22   00001.webm\"\n",
        "save_path = \"/content/drive/MyDrive/Video/Save/2\"\n",
        "\n",
        "print(video_object_detection(video_path, save_path))"
      ],
      "metadata": {
        "colab": {
          "base_uri": "https://localhost:8080/"
        },
        "id": "zBp4GDb-fGEr",
        "outputId": "31ef99af-dd2e-4a2d-f0f2-67f66932fedf"
      },
      "execution_count": null,
      "outputs": [
        {
          "output_type": "stream",
          "name": "stdout",
          "text": [
            "Путь: /content/drive/MyDrive/Video/Save/2.mp4\n",
            "Детекция объектов на видео произведена\n"
          ]
        }
      ]
    },
    {
      "cell_type": "code",
      "source": [
        "video_path = \"/content/drive/MyDrive/Video/Film Studio Aves - Благородные олени зимой. Красота бегущего зверя. ｜ Film Studio Aves   00001.webm\"\n",
        "save_path = \"/content/drive/MyDrive/Video/Save/3\"\n",
        "\n",
        "print(video_object_detection(video_path, save_path))"
      ],
      "metadata": {
        "colab": {
          "base_uri": "https://localhost:8080/"
        },
        "id": "za7GqmFSfGWW",
        "outputId": "8f6b0737-dd14-4af5-cee7-c519826c684e"
      },
      "execution_count": null,
      "outputs": [
        {
          "output_type": "stream",
          "name": "stdout",
          "text": [
            "Путь: /content/drive/MyDrive/Video/Save/3.mp4\n",
            "Детекция объектов на видео произведена\n"
          ]
        }
      ]
    },
    {
      "cell_type": "code",
      "source": [
        "video_path = \"/content/drive/MyDrive/Video/Red Bull - FPV Drone Vs Rallycross Cars   00001.webm\"\n",
        "save_path = \"/content/drive/MyDrive/Video/Save/4\"\n",
        "\n",
        "print(video_object_detection(video_path, save_path))"
      ],
      "metadata": {
        "colab": {
          "base_uri": "https://localhost:8080/"
        },
        "id": "9Wy2lYXIfGim",
        "outputId": "51ae248b-392a-4ada-bbed-d0c3c4be8741"
      },
      "execution_count": null,
      "outputs": [
        {
          "output_type": "stream",
          "name": "stdout",
          "text": [
            "Путь: /content/drive/MyDrive/Video/Save/4.mp4\n",
            "Детекция объектов на видео произведена\n"
          ]
        }
      ]
    },
    {
      "cell_type": "code",
      "source": [
        "video_path = \"/content/drive/MyDrive/Video/Гоняющий Кулибин - р.Киржач куча байдарок и лодки Гунч под моторами болотоходами Max motor   00001.webm\"\n",
        "save_path = \"/content/drive/MyDrive/Video/Save/5\"\n",
        "\n",
        "print(video_object_detection(video_path, save_path))"
      ],
      "metadata": {
        "id": "n96dBG_2fGup"
      },
      "execution_count": null,
      "outputs": []
    }
  ],
  "metadata": {
    "accelerator": "GPU",
    "colab": {
      "provenance": [],
      "include_colab_link": true
    },
    "gpuClass": "standard",
    "kernelspec": {
      "display_name": "Python 3",
      "name": "python3"
    },
    "language_info": {
      "name": "python"
    }
  },
  "nbformat": 4,
  "nbformat_minor": 0
}